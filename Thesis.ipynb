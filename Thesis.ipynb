{
 "cells": [
  {
   "cell_type": "code",
   "execution_count": 39,
   "metadata": {},
   "outputs": [],
   "source": [
    "import numpy as np\n",
    "import matplotlib.pyplot as plt\n",
    "import random\n",
    "from scipy.optimize import curve_fit\n",
    "import math\n",
    "import time"
   ]
  },
  {
   "cell_type": "code",
   "execution_count": 40,
   "metadata": {},
   "outputs": [],
   "source": [
    "def normalize(a):    \n",
    "    return a/max(a)\n",
    "\n",
    "Z=29\n",
    "A=63\n",
    "\n",
    "def ws(r):#wood-saxon r distribution\n",
    "    R=4.21\n",
    "    a=0.459\n",
    "    return (1/(1+np.exp((r-R)/a)))*r**2\n",
    "\n",
    "#hit and miss\n",
    "def hmws():\n",
    "    ctr=False\n",
    "    while not ctr:\n",
    "        x=random.uniform(0,8)\n",
    "        y=random.uniform(0,12)\n",
    "        if y<=ws(x):\n",
    "            r=x\n",
    "            ctr=True\n",
    "    return r\n",
    "\n",
    "#Comparison plot \n",
    "R=4.21\n",
    "def wsr(r):#wood-saxon \n",
    "    a=0.459\n",
    "    return (1/(1+np.exp((r-R)/a)))\n",
    "xx=np.linspace(0,8,1000)\n",
    "woodsaxon=np.zeros([len(xx),1])#Just a list for plotting wood saxon\n",
    "for i in range(len(xx)):\n",
    "    woodsaxon[i]=wsr(xx[i])"
   ]
  },
  {
   "cell_type": "code",
   "execution_count": 41,
   "metadata": {},
   "outputs": [],
   "source": [
    "class Nucleon:\n",
    "    \n",
    "    def __init__(self, position,typ):\n",
    "        self.xb,self.yb,self.zb=position\n",
    "        if typ==True: #True for proton and False for neutron\n",
    "            self.type='Proton'\n",
    "        else: self.type='Neutron'\n",
    "            \n",
    "class Nucleus:\n",
    "    def __init__(self, Z, A, method):\n",
    "        self.A=A#later modified to create right number of protons and neutron\n",
    "        self.protonnumber=Z #number of protons\n",
    "        self.neutronnumber=A-Z\n",
    "        self.method=method\n",
    "        self.d=0.9 #Minimum distance between two nucleons\n",
    "        \n",
    "        \n",
    "        self.rad=[]#r-coordinate of the nucleons\n",
    "        \n",
    "    \n",
    "        \n",
    "        self.proton=[] #list of protons\n",
    "        self.neutron=[] #list of neutron\n",
    "        self.nucleons=[]\n",
    "    \n",
    "    def generate_Nucleus(self): #generates a list of protons and neutrons\n",
    "        for i in range(self.A):\n",
    "            ctr=False\n",
    "            while not ctr:  \n",
    "                if self.method=='list':\n",
    "                    rand=randomws()\n",
    "                elif self.method=='hm':\n",
    "                    rand=hmws()\n",
    "                theta=np.arccos(2 * random.uniform(0,1) - 1)\n",
    "                phi=random.uniform(0,2*np.pi)\n",
    "                xxx=rand*np.sin(theta)*np.cos(phi)\n",
    "                yyy=rand*np.sin(theta)*np.sin(phi)\n",
    "                zzz=rand*np.cos(theta)\n",
    "                fail=0\n",
    "    \n",
    "                for j in self.nucleons:\n",
    "                    dist=np.sqrt((j.xb-xxx)**2+(j.yb-yyy)**2+(j.zb-zzz)**2)\n",
    "                    if dist<self.d:\n",
    "                        fail=1\n",
    "                        break\n",
    "                if fail==0:\n",
    "                    ctr=True\n",
    "                else: continue\n",
    "            pos=np.array([xxx,yyy,zzz])\n",
    "            self.nucleons.append(Nucleon(pos,True))\n",
    "            self.rad.append(rand)\n",
    "            \n",
    "            \n",
    "            typ=random.uniform(-1,1)#gives random pos or neg, If pos creates proton unless proton list is full and vice versa\n",
    "            if typ>0 and len(self.proton)<self.protonnumber:\n",
    "                self.proton.append(Nucleon(pos,True))\n",
    "            elif typ<0 and len(self.neutron)<self.neutronnumber:\n",
    "                self.neutron.append(Nucleon(pos, False))\n",
    "            elif len(self.proton)==self.protonnumber:\n",
    "                self.neutron.append(Nucleon(pos, False))\n",
    "            else: self.proton.append(Nucleon(pos,True))\n",
    "        #print(len(self.proton), len(self.neutron))\n",
    "        \n",
    "                \n",
    "    def draw_Nucleus(self):\n",
    "        plt.figure()\n",
    "        xproton=[]\n",
    "        yproton=[]\n",
    "        xneutron=[]\n",
    "        yneutron=[]\n",
    "        for i in range(len(self.proton)):\n",
    "            xproton.append(self.proton[i].xb)\n",
    "            yproton.append(self.proton[i].yb)\n",
    "        for i in range(len(self.neutron)):\n",
    "            xneutron.append(self.neutron[i].xb)\n",
    "            yneutron.append(self.neutron[i].yb)\n",
    "        plt.plot(xproton,yproton, marker='.', linestyle='', color='red',label='proton')\n",
    "        plt.plot(xneutron,yneutron, marker='.', linestyle='', color='blue',label='neutron')\n",
    "        plt.legend()\n",
    "                \n",
    "    def draw_3D(self):\n",
    "        xn=[]\n",
    "        yn=[]\n",
    "        zn=[]\n",
    "        for i in self.nucleons:\n",
    "            xn.append(i.xb)\n",
    "            yn.append(i.yb)\n",
    "            zn.append(i.zb)\n",
    "        ax=plt.figure().add_subplot(projection='3d')\n",
    "        ax.scatter(xn,yn,zn)\n",
    "        \n",
    "    def draw_Histogram(self):\n",
    "        plt.figure()\n",
    "        plt.xlim(0,2*R)\n",
    "        cts,bins=np.histogram(self.rad,20)\n",
    "        dens=[]\n",
    "        for i in range(len(cts)):\n",
    "            avbin=(bins[i]+bins[i+1])/2\n",
    "            dens.append(cts[i]/((1/3)*np.pi*(bins[i+1]**3-bins[i]**3)))\n",
    "        density=normalize(dens)\n",
    "        plt.stairs(density,bins, label='Density distribution')\n",
    "        plt.plot(xx,woodsaxon,label='Wood Saxon')\n",
    "        plt.legend()"
   ]
  },
  {
   "cell_type": "code",
   "execution_count": 42,
   "metadata": {},
   "outputs": [
    {
     "data": {
      "image/png": "[encoded data removed]",
      "text/plain": [
       "<Figure size 432x288 with 1 Axes>"
      ]
     },
     "metadata": {
      "needs_background": "light"
     },
     "output_type": "display_data"
    },
    {
     "data": {
      "image/png": "[encoded data removed]",
      "text/plain": [
       "<Figure size 432x288 with 1 Axes>"
      ]
     },
     "metadata": {
      "needs_background": "light"
     },
     "output_type": "display_data"
    }
   ],
   "source": [
    "Atom=Nucleus(Z,A,'hm')\n",
    "Atom.generate_Nucleus()\n",
    "Atom.draw_Nucleus()\n",
    "Atom.draw_Histogram()"
   ]
  },
  {
   "cell_type": "markdown",
   "metadata": {},
   "source": [
    "Nuclei Generator"
   ]
  },
  {
   "cell_type": "code",
   "execution_count": 70,
   "metadata": {},
   "outputs": [
    {
     "data": {
      "image/png": "[encoded data removed]",
      "text/plain": [
       "<Figure size 432x288 with 1 Axes>"
      ]
     },
     "metadata": {
      "needs_background": "light"
     },
     "output_type": "display_data"
    }
   ],
   "source": [
    "nuclei=[]\n",
    "for i in range(0,1000):\n",
    "    Cu=Nucleus(Z,A,'hm')\n",
    "    Cu.generate_Nucleus()\n",
    "    nuclei.append(Cu)\n",
    "    \n",
    "    \n",
    "Nucl=[]\n",
    "for i in nuclei:\n",
    "    Nucl.extend(i.rad)\n",
    "    \n",
    "cts,bins=np.histogram(Nucl,30)\n",
    "dens=[]\n",
    "for i in range(len(cts)):\n",
    "    dens.append(cts[i]/((1/3)*np.pi*(bins[i+1]**3-bins[i]**3)))\n",
    "norm=0\n",
    "for i in range(5):\n",
    "    norm=norm+dens[i]/5\n",
    "dens=dens/norm\n",
    "\n",
    "fig=plt.figure()\n",
    "ax=fig.add_subplot(1,1,1)\n",
    "ax.stairs(dens,bins,label='Sampled Nucleon Density',color='black')\n",
    "ax.plot(xx,woodsaxon,label='Woods-Saxon Density',color='red')\n",
    "ax.set_ylabel(r\"$\\rho(r)/\\rho_0$\",fontsize=12)\n",
    "ax.set_xlabel(\"r [fm]\",fontsize=12)\n",
    "ax.legend()\n",
    "plt.show()\n",
    "#fig.savefig('Nucleondensity100000.pdf')"
   ]
  },
  {
   "cell_type": "markdown",
   "metadata": {},
   "source": [
    "Impact parameter sampler"
   ]
  },
  {
   "cell_type": "code",
   "execution_count": 71,
   "metadata": {},
   "outputs": [
    {
     "data": {
      "text/plain": [
       "<matplotlib.legend.Legend at 0x1ea1d372948>"
      ]
     },
     "execution_count": 71,
     "metadata": {},
     "output_type": "execute_result"
    },
    {
     "data": {
      "image/png": "[encoded data removed]",
      "text/plain": [
       "<Figure size 432x288 with 1 Axes>"
      ]
     },
     "metadata": {
      "needs_background": "light"
     },
     "output_type": "display_data"
    }
   ],
   "source": [
    "def sampleb(bMax):\n",
    "    b = np.sqrt(bMax*bMax*random.uniform(0,1))\n",
    "    angle=random.uniform(0,2*np.pi)\n",
    "    return b,angle\n",
    "\n",
    "blist=[]\n",
    "anglelist=[]\n",
    "for i in range(1000):\n",
    "    b,angle=sampleb(7)\n",
    "    blist.append(b)\n",
    "    anglelist.append(angle)\n",
    "    \n",
    "fig=plt.figure()\n",
    "ax=fig.add_subplot(1,1,1)\n",
    "ax.hist(blist, bins=20, range=[0,10],density=False, color='black',histtype=\"step\",label='Sampled b')\n",
    "ax.set_xlabel('b [fm]',fontsize=12)\n",
    "ax.set_ylabel('Number of events',fontsize=12)\n",
    "ax.legend()\n",
    "\n",
    "#fig.savefig('Sampledb10000.pdf')"
   ]
  },
  {
   "cell_type": "code",
   "execution_count": 72,
   "metadata": {},
   "outputs": [],
   "source": [
    "def collision(d,bdisk,opacity): #Black and Gray disk\n",
    "        if d<bdisk:\n",
    "            if random.uniform(0,1)<opacity**2:\n",
    "                return 1\n",
    "            else: return 0\n",
    "        else: return 0"
   ]
  },
  {
   "cell_type": "code",
   "execution_count": 73,
   "metadata": {},
   "outputs": [],
   "source": [
    "Ncollcu=[]\n",
    "dist=[]\n",
    "bdist=[]\n",
    "bdisk=np.sqrt(4.382/np.pi)\n",
    "for i in range(len(blist)):\n",
    "    thet=anglelist[i]\n",
    "    b=blist[i]\n",
    "    xt=b*np.cos(thet)\n",
    "    yt=b*np.sin(thet)\n",
    "    col=0\n",
    "    for j in nuclei[i].nucleons:\n",
    "        d=np.sqrt((j.xb-xt)**2+(j.yb-yt)**2)\n",
    "        col=col+collision(d,bdisk,1)\n",
    "        if collision(d,bdisk,1)==1:\n",
    "            dist.append(d/bdisk)\n",
    "\n",
    "    if col!=0:\n",
    "        Ncollcu.append(col)\n",
    "        bdist.append(b)\n",
    "        \n",
    "        \n",
    "Ncollcugray=[] \n",
    "for i in range(len(blist)):\n",
    "    thet=anglelist[i]\n",
    "    b=blist[i]\n",
    "    xt=b*np.cos(thet)\n",
    "    yt=b*np.sin(thet)\n",
    "    col=0\n",
    "    colgray=0\n",
    "    for j in nuclei[i].nucleons:\n",
    "        d=np.sqrt((j.xb-xt)**2+(j.yb-yt)**2)\n",
    "        colgray=colgray+collision(d,bdisk,opacity=0.7)\n",
    "    if colgray!=0:\n",
    "        Ncollcugray.append(colgray)"
   ]
  },
  {
   "cell_type": "code",
   "execution_count": 74,
   "metadata": {},
   "outputs": [
    {
     "data": {
      "text/plain": [
       "Text(0, 0.5, '$P(N)$')"
      ]
     },
     "execution_count": 74,
     "metadata": {},
     "output_type": "execute_result"
    },
    {
     "data": {
      "image/png": "[encoded data removed]",
      "text/plain": [
       "<Figure size 432x288 with 1 Axes>"
      ]
     },
     "metadata": {
      "needs_background": "light"
     },
     "output_type": "display_data"
    }
   ],
   "source": [
    "fig4 = plt.figure()\n",
    "ax4 = fig4.add_subplot(1,1,1)\n",
    "ax4.hist(Ncollcu, range=[0,40], bins=40,density=True, histtype=\"step\",color=\"black\",label=r\"p-Cu $\\sqrt{s_{nn}}=200$ GeV. Black disk\")\n",
    "ax4.hist(Ncollcugray, range=[0,40], bins=40,density=True, histtype=\"step\",color=\"gray\",label=r\"p-Cu $\\sqrt{s_{nn}}=200$ GeV. Gray disk ($\\alpha=0.7$)\")\n",
    "ax4.set_yscale('log')\n",
    "ax4.legend()\n",
    "ax4.set_xlabel(r\"$N_{coll}$\", fontsize=12)\n",
    "ax4.set_ylabel(r\"$P(N)$\",fontsize=12)\n",
    "#fig4.savefig('ProbforNcoll.pdf')"
   ]
  },
  {
   "cell_type": "markdown",
   "metadata": {},
   "source": [
    "Calculating T"
   ]
  },
  {
   "cell_type": "code",
   "execution_count": 94,
   "metadata": {},
   "outputs": [],
   "source": [
    "def T(opacity,bdisk):\n",
    "    \n",
    "    collpn=[]\n",
    "    dval=[]\n",
    "\n",
    "    #bdisk=np.sqrt(4.382/np.pi)\n",
    "    for i in range(len(blist)):\n",
    "        thet=anglelist[i]\n",
    "        b=blist[i]\n",
    "        xt=b*np.cos(thet)\n",
    "        yt=b*np.sin(thet)\n",
    "        col=0\n",
    "        for j in nuclei[i].nucleons:\n",
    "            d=np.sqrt((j.xb-xt)**2+(j.yb-yt)**2)\n",
    "            col=collision(d,bdisk,opacity)\n",
    "            dval.append(d)\n",
    "            if col!=0:\n",
    "                collpn.append(d)\n",
    "        \n",
    "    ctpn,binp=np.histogram(collpn,30,range=(0,1.5))\n",
    "    ctb,binb=np.histogram(dval,30, range=(0,1.5))\n",
    "    ppnn=[]\n",
    "    for i in range(len(ctpn)):\n",
    "        if ctb[i]==0:\n",
    "            ppnn.append(0)\n",
    "        else:    \n",
    "            ppnn.append(np.sqrt(ctpn[i]/ctb[i]))\n",
    "        \n",
    "    return ppnn,binp\n",
    "\n",
    "\n",
    "\n",
    "def Toscil(u,r1,r2,opacity1,opacity2):\n",
    "    colla=[]\n",
    "    dvala=[]\n",
    "    collb=[]\n",
    "    dvalb=[]\n",
    "    dvaltot=[]\n",
    "    colltot=[]\n",
    "    #bdisk=np.sqrt(4.382/np.pi)\n",
    "    for i in range(len(blist)):\n",
    "        thet=anglelist[i]\n",
    "        b=blist[i]\n",
    "        xt=b*np.cos(thet)\n",
    "        yt=b*np.sin(thet)\n",
    "        for j in nuclei[i].nucleons:\n",
    "            d=np.sqrt((j.xb-xt)**2+(j.yb-yt)**2)\n",
    "            ra=random.uniform(0,1)\n",
    "            dvaltot.append(d)\n",
    "            if ra<u:\n",
    "                dvala.append(d)\n",
    "                col=collision(d,r1,opacity1)\n",
    "                if col!=0:\n",
    "                    colla.append(d)\n",
    "                    colltot.append(d)\n",
    "            elif ra>u:\n",
    "                dvalb.append(d)\n",
    "                col=collision(d,r2,opacity2)\n",
    "                if col!=0:\n",
    "                    collb.append(d)\n",
    "                    colltot.append(d)\n",
    "        \n",
    "    ctpna,binpa=np.histogram(colla,50,range=(0,1.5))\n",
    "    ctba,binba=np.histogram(dvala,50, range=(0,1.5))\n",
    "    ppnna=[]\n",
    "    Pa=[]\n",
    "    for i in range(len(ctpna)):\n",
    "        if ctba[i]==0:\n",
    "            ppnna.append(0)\n",
    "            Pa.append(0)\n",
    "        else:    \n",
    "            ppnna.append(np.sqrt(ctpna[i]/ctba[i]))\n",
    "            Pa.append(ctpna[i]/ctba[i])\n",
    "\n",
    "    ctpnb,binpb=np.histogram(collb,50,range=(0,1.5))\n",
    "    ctbb,binbb=np.histogram(dvalb,50, range=(0,1.5))\n",
    "    ppnnb=[]\n",
    "    Pb=[]\n",
    "    for i in range(len(ctpnb)):\n",
    "        if ctbb[i]==0:\n",
    "            ppnnb.append(0)\n",
    "            Pb.append(0)\n",
    "        else:    \n",
    "            ppnnb.append(np.sqrt(ctpnb[i]/ctbb[i]))\n",
    "            Pb.append(ctpnb[i]/ctbb[i])\n",
    "    \n",
    "    \n",
    "    ctpntot,binptot=np.histogram(colltot,50,range=(0,1.5))\n",
    "    ctbtot,binbtot=np.histogram(dvaltot,50, range=(0,1.5))\n",
    "    ppnntot=[]\n",
    "    for i in range(len(ctpntot)):\n",
    "        if ctbtot[i]==0:\n",
    "            ppnntot.append(0)\n",
    "        else:    \n",
    "            ppnntot.append(np.sqrt(ctpntot[i]/ctbtot[i]))   \n",
    "            \n",
    "    sqrdp=[]      \n",
    "    for i in range(len(ctpna)):\n",
    "        sqrdp.append((Pa[i]*ctba[i]+Pb[i]*ctbb[i])/(ctba[i]+ctbb[i]))\n",
    "    \n",
    "    return ppnntot,ppnna,ppnnb,sqrdp,binptot\n"
   ]
  },
  {
   "cell_type": "code",
   "execution_count": 96,
   "metadata": {},
   "outputs": [
    {
     "name": "stdout",
     "output_type": "stream",
     "text": [
      "1.1810308722710725\n"
     ]
    },
    {
     "name": "stderr",
     "output_type": "stream",
     "text": [
      "C:\\Users\\putos\\Anaconda3\\lib\\site-packages\\ipykernel_launcher.py:99: RuntimeWarning: invalid value encountered in longlong_scalars\n"
     ]
    },
    {
     "data": {
      "text/plain": [
       "Text(0.5, 0, '$r_{\\\\mathrm{bdisk}}$')"
      ]
     },
     "execution_count": 96,
     "metadata": {},
     "output_type": "execute_result"
    },
    {
     "data": {
      "image/png": "[encoded data removed]",
      "text/plain": [
       "<Figure size 432x288 with 1 Axes>"
      ]
     },
     "metadata": {
      "needs_background": "light"
     },
     "output_type": "display_data"
    },
    {
     "data": {
      "image/png": "[encoded data removed]",
      "text/plain": [
       "<Figure size 432x288 with 1 Axes>"
      ]
     },
     "metadata": {
      "needs_background": "light"
     },
     "output_type": "display_data"
    }
   ],
   "source": [
    "TT,BB=T(1,bdisk)\n",
    "TTg,BBg=T(0.7,bdisk)\n",
    "print(bdisk)\n",
    "fig6 = plt.figure()\n",
    "ax6 = fig6.add_subplot(1,1,1)\n",
    "ax6.stairs(TT,BB, color='black', label=r'T^{pp} black disk')\n",
    "ax6.stairs(TTg,BBg, color='gray', label=r'T^{pp} gray disk')\n",
    "ax6.legend()\n",
    "ax6.set_ylabel(r\"$T(b)$\", fontsize='12')\n",
    "ax6.set_xlabel(r'$r_{\\mathrm{bdisk}}$', fontsize='12')\n",
    "\n",
    "\n",
    "ax6.stairs(TTg,BBg, color='gray', label=r'T^{pp} sampled gray')\n",
    "\n",
    "TTT=Toscil(0.42,0.15,1.07,0.97,0.97)\n",
    "Ttot=TTT[0]\n",
    "Ta=TTT[1]\n",
    "Tb=TTT[2]\n",
    "Bin=TTT[-1]\n",
    "\n",
    "fig7 = plt.figure()\n",
    "ax7 = fig7.add_subplot(1,1,1)\n",
    "\n",
    "ax7.stairs(Ta,Bin, color='grey', label=r'T^{pp}_a')\n",
    "ax7.stairs(Tb,Bin, color='black', label=r'T^{pp}_b')\n",
    "ax7.stairs(Ttot,Bin, color='red',label=r'T^{pp}_{tot}' )\n",
    "ax7.legend()\n",
    "ax7.set_ylabel(r\"$T(b)$\", fontsize='12')\n",
    "ax7.set_xlabel(r'$r_{\\mathrm{bdisk}}$', fontsize='12')\n"
   ]
  },
  {
   "cell_type": "code",
   "execution_count": 77,
   "metadata": {},
   "outputs": [],
   "source": [
    "def sigma(opacity, bdisk):\n",
    "    Tea,bean=T(opacity,bdisk)\n",
    "    dA=[]\n",
    "    for i in range(len(Tea)):\n",
    "        dA.append(np.pi*(bean[i+1]**2-bean[i]**2)*10) #factor of 10, fm^2 to mb\n",
    "    \n",
    "    dsigtot=[]\n",
    "    dsigel=[]\n",
    "    for i in range(len(Tea)):\n",
    "        dsigtot.append(Tea[i]*2*dA[i])\n",
    "        dsigel.append(Tea[i]**2*dA[i])\n",
    "    \n",
    "    sigmatot=sum(dsigtot)\n",
    "    sigmael=sum(dsigel)\n",
    "    \n",
    "    return [sigmatot,sigmael]\n",
    "\n",
    "def sigmaoscil(u,r1,r2,opacity1,opacity2):\n",
    "    Tee=Toscil(u,r1,r2,opacity1,opacity2)\n",
    "    Ttot=Tee[0]\n",
    "    Ta=Tee[1]\n",
    "    Tb=Tee[2]\n",
    "    Tp=Tee[3]\n",
    "    Bin=Tee[-1]\n",
    "    dA=[]\n",
    "    for i in range(len(Ttot)):\n",
    "        dA.append(np.pi*(Bin[i+1]**2-Bin[i]**2)*10) #factor of 10, fm^2 to mb\n",
    "    dsigtot=[]\n",
    "    dsigel=[]\n",
    "    dwounded=[]\n",
    "    ddiff=[]\n",
    "    for i in range(len(Ttot)):\n",
    "        dsigtot.append(Ttot[i]*2*dA[i])\n",
    "        dsigel.append(Ttot[i]**2*dA[i])\n",
    "        dwounded.append((2*Ttot[i]-Tee[3][i])*dA[i])\n",
    "        ddiff.append((Tee[3][i]-Ttot[i]**2)*dA[i])\n",
    "    \n",
    "    sigmatot=sum(dsigtot)\n",
    "    sigmael=sum(dsigel)\n",
    "    sigmawounded=sum(dwounded)\n",
    "    sigmadiff=sum(ddiff)\n",
    "    return [sigmatot,sigmael,sigmawounded,sigmadiff]"
   ]
  },
  {
   "cell_type": "markdown",
   "metadata": {},
   "source": [
    "# Energy dependence"
   ]
  },
  {
   "cell_type": "code",
   "execution_count": 78,
   "metadata": {},
   "outputs": [],
   "source": [
    "mass_proton=0.93827208816 #[GeV]\n",
    "i=0\n",
    "Plab=[]\n",
    "Crosssec=[]\n",
    "sqrtsunsorted=[]\n",
    "errp=[]\n",
    "errm=[]\n",
    "with open('totaledep.txt','r') as f:\n",
    "    for line in f.readlines()[235:298]:\n",
    "        number, plab,plabmin,plabmax,sig, staerrp, staerrm, rest=line.split(maxsplit=7)\n",
    "        if float(staerrp)!=0 or float(staerrm)!=0:\n",
    "            Plab.append(float(plab)) #GeV\n",
    "            Crosssec.append(float(sig))\n",
    "            sqrtsunsorted.append(np.sqrt(2*float(plab)*mass_proton))\n",
    "            errp.append(float(staerrp))\n",
    "            errm.append(float(staerrm))\n",
    "            \n",
    "sqrts=sqrtsunsorted#np.sort(sqrtsunsorted)\n",
    "\n",
    "\n",
    "Crosssecel=[]\n",
    "sqrtselunsorted=[]\n",
    "errpel=[]\n",
    "errmel=[]\n",
    "with open('elasticedep.txt','r') as f:\n",
    "    for line in f.readlines()[140:165]:#140-165\n",
    "        number, plab,plabmin,plabmax,sig, staerrp, staerrm, rest=line.split(maxsplit=7)\n",
    "        if float(staerrp)!=0 or float(staerrm)!=0:\n",
    "            Crosssecel.append(float(sig))\n",
    "            sqrtselunsorted.append(np.sqrt(2*float(plab)*mass_proton))\n",
    "            errpel.append(float(staerrp))\n",
    "            errmel.append(float(staerrm))\n",
    "            \n",
    "sqrtsel=sqrtselunsorted#np.sort(sqrtselunsorted)\n"
   ]
  },
  {
   "cell_type": "code",
   "execution_count": 79,
   "metadata": {},
   "outputs": [],
   "source": [
    "def fi(E,a,b,c):\n",
    "    return a*E**b+c\n",
    "\n",
    "partot,covtot=curve_fit(fi,xdata=sqrts,ydata=Crosssec)\n",
    "parel,covel=curve_fit(fi,sqrtsel,Crosssecel)\n",
    "ener=np.linspace(20,10000,1000)\n",
    "totfit=[]\n",
    "elfit=[]\n",
    "for i in ener:\n",
    "    totfit.append(fi(i,partot[0],partot[1],partot[2]))\n",
    "    elfit.append(fi(i,parel[0],parel[1],parel[2]))"
   ]
  },
  {
   "cell_type": "code",
   "execution_count": 80,
   "metadata": {},
   "outputs": [
    {
     "data": {
      "text/plain": [
       "<matplotlib.legend.Legend at 0x1ea29595b88>"
      ]
     },
     "execution_count": 80,
     "metadata": {},
     "output_type": "execute_result"
    },
    {
     "data": {
      "image/png": "[encoded data removed]",
      "text/plain": [
       "<Figure size 432x288 with 1 Axes>"
      ]
     },
     "metadata": {
      "needs_background": "light"
     },
     "output_type": "display_data"
    }
   ],
   "source": [
    "fig12 = plt.figure()\n",
    "ax12 = fig12.add_subplot(1,1,1)\n",
    "ax12.plot(sqrts,Crosssec, marker='x',linestyle='', label=r'$\\sigma_{tot}$ data')\n",
    "ax12.plot(sqrtsel,Crosssecel,marker='x',linestyle='', label=r'$\\sigma_{el}$ data')\n",
    "ax12.plot(ener,totfit, label=r'$\\sigma_{tot}$ fit')\n",
    "ax12.plot(ener,elfit, label=r'$\\sigma_{el}$ fit')\n",
    "ax12.set_yscale('log')\n",
    "ax12.set_xscale('log')\n",
    "ax12.set_xlim(20,10000)\n",
    "ax12.set_ylabel(r\"$\\sigma$ [mb]\")\n",
    "ax12.set_xlabel(r\"$\\sqrt{s}$ [GeV]\")\n",
    "ax12.legend()"
   ]
  },
  {
   "cell_type": "code",
   "execution_count": 81,
   "metadata": {},
   "outputs": [],
   "source": [
    "def fitbdisk(En,a,b,c):\n",
    "    return a*np.log(En*b)+c\n",
    "def fitfunction(E,a,b,c):\n",
    "    sigmarray=np.zeros(len(E))\n",
    "    for i in range(len(E)):\n",
    "        radius=fitbdisk(E[i],a,b,c)\n",
    "        sigmarray[i]=sigma(1,radius)[0]\n",
    "    return sigmarray\n",
    "\n",
    "par,cov=curve_fit(fitfunction,xdata=sqrts,ydata=Crosssec,sigma=errp,p0=[0.25,0.1,0], bounds=((-np.inf,-np.inf,-np.inf),(np.inf, np.inf,np.inf)),  method='trf', diff_step=0.1)\n"
   ]
  },
  {
   "cell_type": "code",
   "execution_count": 82,
   "metadata": {},
   "outputs": [],
   "source": [
    "test=[]\n",
    "xxxx=np.concatenate((np.linspace(20,100,10),np.linspace(100,10e4,100)))\n",
    "for i in xxxx:\n",
    "    test.append(sigma(1,fitbdisk(i,par[0],par[1],par[2]))[0])"
   ]
  },
  {
   "cell_type": "code",
   "execution_count": 83,
   "metadata": {},
   "outputs": [
    {
     "data": {
      "text/plain": [
       "Text(0.5, 0, '$\\\\sqrt{s}$\\\\ [GeV]')"
      ]
     },
     "execution_count": 83,
     "metadata": {},
     "output_type": "execute_result"
    },
    {
     "data": {
      "image/png": "[encoded data removed]",
      "text/plain": [
       "<Figure size 432x288 with 1 Axes>"
      ]
     },
     "metadata": {
      "needs_background": "light"
     },
     "output_type": "display_data"
    }
   ],
   "source": [
    "fig11 = plt.figure()\n",
    "ax11 = fig11.add_subplot(1,1,1)\n",
    "ax11.errorbar(x=sqrts,y=Crosssec,yerr=[errm,errp],linestyle='', marker='x',label='bdisk sqrts equiv', color='red')\n",
    "#ax11.plot(sqrts,Crosssec, linestyle='', marker='x',label='bdisk sqrts equiv', color='red')\n",
    "ax11.plot(xxxx,test, linestyle='-', marker='',color='black', label='Data fit')\n",
    "ax11.set_yscale('log')\n",
    "ax11.set_xscale('log')\n",
    "ax11.set_ylabel(r\"bdisk radius[fm]\")\n",
    "ax11.set_xlabel(r\"$\\sqrt{s}$\\ [GeV]\")"
   ]
  },
  {
   "cell_type": "code",
   "execution_count": 84,
   "metadata": {},
   "outputs": [
    {
     "name": "stdout",
     "output_type": "stream",
     "text": [
      "621.5286297798157\n"
     ]
    }
   ],
   "source": [
    "def fitopacity(En,d,e):\n",
    "    if En==0:\n",
    "        return 0\n",
    "    else:\n",
    "        return d+e*np.log(En)\n",
    "\n",
    "def fitgrayfunctiontot(E,a,b,c,d,e):\n",
    "    sigmarrayt=np.zeros(len(E))\n",
    "    for i in range(len(E)):\n",
    "        radius=fitbdisk(E[i],a,b,c)\n",
    "        opacity=fitopacity(E[i],d,e)\n",
    "        sigmarrayt[i]=sigma(opacity,radius)[0]\n",
    "    return sigmarrayt\n",
    "\n",
    "def fitgrayfunctionel(E,a,b,c,d,e):\n",
    "    sigmarray=np.zeros(len(E))\n",
    "    for i in range(len(E)):\n",
    "        radius=fitbdisk(E[i],a,b,c)\n",
    "        opacity=fitopacity(E[i],d,e)\n",
    "        sigmarray[i]=sigma(opacity,radius)[1]\n",
    "    return sigmarray\n",
    "\n",
    "\n",
    "combox=np.append(sqrts,sqrtsel)\n",
    "\n",
    "comboy=np.append(Crosssec,Crosssecel)\n",
    "\n",
    "comboerr=np.append(errp,errpel)\n",
    "\n",
    "\n",
    "def fitgrayfunction(combE,a,b,c,d,e):\n",
    "    extracttot=combox[:len(sqrts)]\n",
    "    extractel=combox[len(sqrts):]\n",
    "    g=fitgrayfunctiontot(extracttot,a,b,c,d,e)\n",
    "    h=fitgrayfunctionel(extractel,a,b,c,d,e)\n",
    "    return np.append(g,h)\n",
    "start=time.time()\n",
    "'''fittedel=[]\n",
    "for i in sqrts:\n",
    "    fittedel.append(fi(i,parel[0],parel[1],parel[2]))\n",
    "    \n",
    "\n",
    "ydat=np.hstack([Crosssec,fittedel])\n",
    "xdat=np.hstack([sqrts,sqrts])\n",
    "''' \n",
    "\n",
    "\n",
    "pargray,covgray=curve_fit(fitgrayfunction,xdata=combox,ydata=comboy,sigma=comboerr,p0=[0.25,0.5,0,0.1,0.01], bounds=((-np.inf,0,-np.inf,-np.inf,0),(np.inf, np.inf,np.inf,np.inf,np.inf)),  method='trf', diff_step=0.1)\n",
    "end=time.time()\n",
    "\n",
    "print(end-start)"
   ]
  },
  {
   "cell_type": "code",
   "execution_count": 85,
   "metadata": {},
   "outputs": [
    {
     "data": {
      "text/plain": [
       "array([0.64362918, 0.40778366, 0.32150054, 0.08446072, 0.0604793 ])"
      ]
     },
     "execution_count": 85,
     "metadata": {},
     "output_type": "execute_result"
    }
   ],
   "source": [
    "pargray"
   ]
  },
  {
   "cell_type": "code",
   "execution_count": 86,
   "metadata": {},
   "outputs": [],
   "source": [
    "perr = np.sqrt(np.diag(covgray))\n",
    "testgraytot=[]\n",
    "testgrayel=[]\n",
    "testp=[]\n",
    "testm=[]\n",
    "testpel=[]\n",
    "testmel=[]\n",
    "#xxxx=np.concatenate((np.linspace(20,100,20),np.linspace(100,10e4,100)))\n",
    "for i in np.sort(sqrts):\n",
    "    sig=sigma(fitopacity(i,pargray[3],pargray[4]),fitbdisk(i,pargray[0],pargray[1],pargray[2]))\n",
    "    testgraytot.append(sig[0])\n",
    "    testgrayel.append(sig[1])\n",
    "    testp.append(sigma(fitopacity(i,pargray[3]+perr[3],pargray[4]+perr[4]),fitbdisk(i,pargray[0]+perr[0],pargray[1]+perr[1],pargray[2]+perr[2]))[0])\n",
    "    testm.append(sigma(fitopacity(i,pargray[3]-perr[3],pargray[4]-perr[4]),fitbdisk(i,(pargray[0]-perr[0]),(pargray[1]-perr[1]),(pargray[2]-perr[2])))[0])\n",
    "    testpel.append(sigma(fitopacity(i,pargray[3]+perr[3],pargray[4]+perr[4]),fitbdisk(i,pargray[0]+perr[0],pargray[1]+perr[1],pargray[2]+perr[2]))[1])\n",
    "    testmel.append(sigma(fitopacity(i,pargray[3]-perr[3],pargray[4]-perr[4]),fitbdisk(i,(pargray[0]-perr[0]),(pargray[1]-perr[1]),(pargray[2]-perr[2])))[1])\n"
   ]
  },
  {
   "cell_type": "code",
   "execution_count": 90,
   "metadata": {},
   "outputs": [
    {
     "data": {
      "text/plain": [
       "<matplotlib.legend.Legend at 0x1ea1bb31548>"
      ]
     },
     "execution_count": 90,
     "metadata": {},
     "output_type": "execute_result"
    },
    {
     "data": {
      "image/png": "[encoded data removed]",
      "text/plain": [
       "<Figure size 432x288 with 1 Axes>"
      ]
     },
     "metadata": {
      "needs_background": "light"
     },
     "output_type": "display_data"
    }
   ],
   "source": [
    "\n",
    "fig11 = plt.figure()\n",
    "ax11 = fig11.add_subplot(1,1,1)\n",
    "ax11.errorbar(x=sqrts,y=Crosssec,yerr=[errm,errp],linestyle='', marker='x',label='tot data', color='red')\n",
    "ax11.errorbar(x=sqrtsel,y=Crosssecel,yerr=[errmel,errpel], linestyle='', marker='x',label='el data', color='green')\n",
    "ax11.plot(np.sort(sqrts),testgraytot, linestyle='-', marker='o', color='black', label='tot fit')\n",
    "ax11.plot(np.sort(sqrts),testgrayel, linestyle='-', marker='o', color='black', label='el fit')\n",
    "ax11.fill_between(np.sort(sqrts),testp,testm)\n",
    "ax11.fill_between(np.sort(sqrts),testpel,testmel)\n",
    "ax11.set_yscale('log')\n",
    "ax11.set_xscale('log')\n",
    "ax11.set_ylabel(r\"$\\sigma$ [mb]\")\n",
    "ax11.set_xlabel(r\"$\\sqrt{s}$ [GeV]\")\n",
    "ax11.legend()\n"
   ]
  },
  {
   "cell_type": "code",
   "execution_count": 88,
   "metadata": {},
   "outputs": [
    {
     "data": {
      "text/plain": [
       "array([0.64362918, 0.40778366, 0.32150054, 0.08446072, 0.0604793 ])"
      ]
     },
     "execution_count": 88,
     "metadata": {},
     "output_type": "execute_result"
    }
   ],
   "source": [
    "pargray\n"
   ]
  },
  {
   "cell_type": "code",
   "execution_count": 89,
   "metadata": {},
   "outputs": [
    {
     "data": {
      "text/plain": [
       "0.641495666220552"
      ]
     },
     "execution_count": 89,
     "metadata": {},
     "output_type": "execute_result"
    }
   ],
   "source": [
    "fitopacity(10000,pargray[3],pargray[4])"
   ]
  },
  {
   "cell_type": "code",
   "execution_count": null,
   "metadata": {},
   "outputs": [],
   "source": []
  }
 ],
 "metadata": {
  "kernelspec": {
   "display_name": "Python 3",
   "language": "python",
   "name": "python3"
  },
  "language_info": {
   "codemirror_mode": {
    "name": "ipython",
    "version": 3
   },
   "file_extension": ".py",
   "mimetype": "text/x-python",
   "name": "python",
   "nbconvert_exporter": "python",
   "pygments_lexer": "ipython3",
   "version": "3.7.4"
  }
 },
 "nbformat": 4,
 "nbformat_minor": 2
}
